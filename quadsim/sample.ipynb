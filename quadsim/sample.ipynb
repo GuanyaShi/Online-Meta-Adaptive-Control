{
 "cells": [
  {
   "cell_type": "code",
   "execution_count": null,
   "source": [
    "import time\r\n",
    "\r\n",
    "# from IPython.display import HTML\r\n",
    "\r\n",
    "import numpy as np\r\n",
    "import matplotlib.pyplot as plt\r\n",
    "import matplotlib.ticker as ticker\r\n",
    "plt.rcdefaults()\r\n",
    "import torch\r\n",
    "# from tqdm import tqdm\r\n",
    "\r\n",
    "from threedeequadsim import quadsim, controller, trajectory, quadrotoranimation, experiments, utils\r\n",
    "\r\n",
    "import importlib\r\n",
    "importlib.reload(controller)\r\n",
    "importlib.reload(quadsim)\r\n",
    "importlib.reload(trajectory)\r\n",
    "importlib.reload(quadrotoranimation)"
   ],
   "outputs": [],
   "metadata": {
    "tags": []
   }
  },
  {
   "cell_type": "code",
   "execution_count": null,
   "source": [
    "folder = './plots/' + time.strftime('%Y-%m-%d') + '/'\r\n",
    "if not os.path.isdir(folder):\r\n",
    "    os.makedirs(folder)\r\n",
    "    print('Created data folder ' + folder)"
   ],
   "outputs": [],
   "metadata": {}
  },
  {
   "cell_type": "code",
   "execution_count": null,
   "source": [
    "# def savefig(plottag):\r\n",
    "#     plt.savefig(folder + nametag + '_' + plottag, bbox_inches='tight')\r\n",
    "def savefig(plottag):\r\n",
    "    pass\r\n",
    "xyz = ['x', 'y', 'z']"
   ],
   "outputs": [],
   "metadata": {}
  },
  {
   "cell_type": "code",
   "execution_count": null,
   "source": [
    "eta_a = 0.005\r\n",
    "\r\n",
    "eta_A_convex = 0.0005\r\n",
    "eta_A_biconvex = 0.0002\r\n",
    "eta_A_deep = 0.05\r\n",
    "\r\n",
    "dim_a = 50\r\n",
    "dim_A = 100\r\n",
    "layer_sizes = (75, 150)\r\n",
    "\r\n",
    "feature_freq = 0.25\r\n",
    "\r\n",
    "c = controller.MetaAdaptBaseline(eta_a_base=eta_a, dim_a=dim_a, feature_freq=feature_freq)"
   ],
   "outputs": [],
   "metadata": {}
  },
  {
   "cell_type": "code",
   "execution_count": null,
   "source": [
    "np.random.seed(117) # Does this work when np is loaded separately in packages?\r\n",
    "# c = controller.MetaAdaptBiconvex(dim_a=100, dim_A=100, eta_a_base=0.005, eta_A_base=0.002)\r\n",
    "# c= controller.MetaAdaptBiconvex(dim_a = 50, dim_A=50, eta_A_base=0.001, eta_a_base=0.001)\r\n",
    "# c = controller.MetaAdaptConvex()\r\n",
    "# c = controller.MetaAdaptDeep(eta_A_base=0.01, eta_a_base=0.01)\r\n",
    "# c = controller.MetaAdaptBaseline()\r\n",
    "# c = controller.Baseline()\r\n",
    "\r\n",
    "Vwind = np.array((3., 0., 0.))\r\n",
    "Vwind_cov = 1.0\r\n",
    "\r\n",
    "q_kwargs = {\r\n",
    "    'Vwind' : 0.,                       # mean wind speed\r\n",
    "    'wind_model': 'iid-uniform',                # {'iid', 'random-walk'}\r\n",
    "    'Vwind_cov' : 3.0,                  # how quickly the wind changes\r\n",
    "    # 'wind_constraint' : 'hard',         # 'hard' wind constraint limits wind speed to be within Vwind_gust of the mean speed\r\n",
    "    'Vwind_gust' : 5.0,                # for hard wind constrant, wind speed is in the range Vwind +/- Vwind_gust\r\n",
    "    'wind_update_period' : 2.0,         # seconds between wind speed changes\r\n",
    "    't_stop' : 30.,\r\n",
    "}\r\n",
    "q = quadsim.QuadrotorWithSideForce(**q_kwargs, )\r\n",
    "# q = quadsim.QuadrotorWithSideForce(Vwind=Vwind, Vwind_cov=Vwind_cov, wind_constraint='hard', Vwind_gust=1.0)# Quadrotor\r\n",
    "# q = quadsim.Quadrotor() # Quadrotor\r\n",
    "# q.params['t_stop'] = 20.\r\n",
    "\r\n",
    "\r\n",
    "T = 20.\r\n",
    "# t = trajectory.fig8(T=T, dir1=(0., 0., 2.*np.sqrt(2.)), dir2=(1./np.sqrt(2.), 1./np.sqrt(2.), 0.))\r\n",
    "# t = trajectory.fig8(T=T, dir1=(0.75, 0., 0.), dir2=(0, 0., 0.4))\r\n",
    "t = trajectory.hover(np.array((0., 0., 0.)))\r\n",
    "# t = trajectory.random_setpoint_generator(seed=116, T=T)\r\n",
    "# t = trajectory.SmoothSetpoint(time_scale=T, vertices=((0., 0., 0.), (1., 0., 1.), (1., 0., 1.), (-1., 0., 1.), (-1., 0., 1.), \r\n",
    "    # (1., 0., -1.), (1., 0., -1.), (-1., 0., -1.), (-1., 0., -1.)))\r\n",
    "# t = trajectory.HourGlass()\r\n",
    "\r\n",
    "tag = '' #('_W-%0.2f' % W).replace('.', 'd')\r\n",
    "nametag = c._name + '_' + t._name + tag + '_wind=' + str(int(Vwind[0]))\r\n",
    "nametag_short = nametag.split('_')[-1]\r\n",
    "print(folder)\r\n",
    "print(nametag)\r\n",
    "time.sleep(0.1)\r\n",
    "\r\n",
    "# %prun -D profile.prof data = q.run(trajectory=t, controller=c)\r\n",
    "data = q.run(trajectory=t, controller=c, seed=None)\r\n",
    "log = utils.dotdict(data)"
   ],
   "outputs": [],
   "metadata": {
    "tags": []
   }
  },
  {
   "cell_type": "code",
   "execution_count": null,
   "source": [
    "# %debug"
   ],
   "outputs": [],
   "metadata": {
    "tags": []
   }
  },
  {
   "cell_type": "code",
   "execution_count": null,
   "source": [
    "# a = quadrotoranimation.animate(data, fig=plt.figure(figsize=(10,10)))\r\n",
    "# # HTML(a.to_jshtml())\r\n",
    "# a.save('plot-gif_' + nametag + '.gif', writer='imagemagick', fps=30)"
   ],
   "outputs": [],
   "metadata": {
    "scrolled": true,
    "tags": []
   }
  },
  {
   "cell_type": "code",
   "execution_count": null,
   "source": [
    "\r\n",
    "# importlib.reload(quadrotoranimation)\r\n",
    "# a = quadrotoranimation.draw_frames(data, fig=plt.figure(figsize=(10,10)))"
   ],
   "outputs": [],
   "metadata": {}
  },
  {
   "cell_type": "code",
   "execution_count": null,
   "source": [
    "fig = plt.figure()\r\n",
    "ax = fig.gca(projection='3d')\r\n",
    "plt.quiver([0], [0], [0], [1], [1], [1], normalize=True)\r\n"
   ],
   "outputs": [],
   "metadata": {}
  },
  {
   "cell_type": "code",
   "execution_count": null,
   "source": [
    "fig = plt.figure(figsize=(10,5))\r\n",
    "fig.add_subplot(121, projection='3d')\r\n",
    "plt.plot(log['X'][:,0],log['X'][:,1], log.X[:,2])\r\n",
    "plt.plot(log['pd'][:,0], log['pd'][:,1], log.pd[:,2])\r\n",
    "ax = plt.gca()\r\n",
    "bound = 3\r\n",
    "ax.set_xlim(-bound,bound)\r\n",
    "ax.set_ylim(-bound,bound)\r\n",
    "ax.set_zlim(-bound,bound)\r\n",
    "ax.set_xlabel('x')\r\n",
    "ax.set_ylabel('y')\r\n",
    "ax.set_zlabel('z')\r\n",
    "fig.add_subplot(122)\r\n",
    "plt.plot(log['X'][:,0],log['X'][:,2])\r\n",
    "plt.plot(log['pd'][:,0], log['pd'][:,2])\r\n",
    "plt.axis((-bound,bound,-bound,bound))\r\n",
    "plt.xlabel('x')\r\n",
    "plt.ylabel('z')\r\n",
    "# tstart = 15.\r\n",
    "# istart = int(100*tstart)\r\n",
    "starttime = 0. # 0 * T\r\n",
    "istart = int(100 * starttime)\r\n",
    "rmse = np.sqrt(np.mean(np.sum((log['X'][istart:, 0:3] - log['pd'][istart:])**2,1)))\r\n",
    "rmse_all = np.sqrt(np.mean(np.sum((log['X'][:, 0:3] - log['pd'])**2,1)))\r\n",
    "maxerror = np.max(np.sqrt(np.sum((log['X'][istart:, 0:3] - log['pd'][istart:])**2,1)))\r\n",
    "meanerror = np.mean(np.sqrt(np.sum((log['X'][istart:, 0:3] - log['pd'][istart:])**2,1)))\r\n",
    "print('rmse = ', rmse)\r\n",
    "print('rmse_all = ', rmse_all)\r\n",
    "plt.title('after %.1fs, \\n' % log.t[istart] + 'rmspe=' + '%.3fm' % rmse + '\\nmean error=%.3fm, \\nmax error=%.3f\\n' % (meanerror, maxerror) + nametag)\r\n",
    "# plt.savefig('tracking-error_' + nametag + '.png')\r\n",
    "# plt.savefig('plots/plot-3D-' + nametag + '.jpg')\r\n",
    "savefig('3D')\r\n",
    "\r\n",
    "plt.figure(figsize=(15,5))\r\n",
    "for i in range(3):\r\n",
    "    plt.subplot(1,3,i+1)\r\n",
    "    plt.plot(log['t'], log['X'][:,i], label=xyz[i])\r\n",
    "    plt.plot(log['t'], log['pd'][:,i], label=xyz[i] + '_d')\r\n",
    "    plt.plot(log['t'], log.Vwind[:,i], label='Vwind_' + xyz[i])\r\n",
    "    plt.legend()\r\n",
    "    plt.xlabel('t')\r\n",
    "    plt.ylabel(xyz[i])\r\n",
    "\r\n",
    "plt.show()\r\n",
    "# plt.savefig('plots/plot-xyz-' + nametag + '.jpg')\r\n",
    "savefig('xyzwind')"
   ],
   "outputs": [],
   "metadata": {
    "tags": []
   }
  },
  {
   "cell_type": "code",
   "execution_count": null,
   "source": [
    "plt.figure(figsize=(15,5))\r\n",
    "istart = int(100 * starttime)\r\n",
    "for i, label in enumerate(('x', 'y', 'z')):\r\n",
    "    plt.subplot(1,3,i+1)\r\n",
    "    idxmin = 0\r\n",
    "    idxtmax = 10000\r\n",
    "    plt.plot(log.t[idxmin:idxtmax], log.Fs[idxmin:idxtmax,i])\r\n",
    "    plt.plot(log.t[idxmin:idxtmax], log.y[idxmin:idxtmax,i])\r\n",
    "    plt.plot(log.t[idxmin:idxtmax], log.f_hat[idxmin:idxtmax,0,i])\r\n",
    "    plt.legend(('Fs', 'y', 'fhat'))\r\n",
    "    for t in log['t'][log['meta_adapt_trigger']]:\r\n",
    "        plt.axvline(t, ls=':', color='k')\r\n",
    "    ymin, ymax = plt.ylim()\r\n",
    "    plt.plot([log.t[istart], log.t[istart]], [ymin, ymax], 'k:')\r\n",
    "    meanerror = np.mean(np.abs(log.Fs[istart:,i] - log.f_hat[istart:,0,i]))\r\n",
    "    maxerror = np.max(np.abs(log.Fs[istart:,i] - log.f_hat[istart:,0,i]))\r\n",
    "    rmse = np.sqrt(np.mean((log.Fs[istart:, i] - log.f_hat[istart:, 0, i])**2))\r\n",
    "    plt.title(label + ', \\nmeanerror = %.2fN' % meanerror + '\\nrmse=%.2fN' % rmse + '\\nmax error=%.2fN' % maxerror + '\\n' + nametag)\r\n",
    "    \r\n",
    "plt.ylim(bottom=-5, top=5)\r\n",
    "ax = plt.gca()\r\n",
    "# ax.set_ylim(-5,5)    \r\n",
    "plt.annotate('*Fs and y differ due to imu noise', xy=(0.05, 0.02), xycoords='figure fraction')\r\n",
    "# plt.savefig('plots/plot-f-' + nametag + '.png', bbox_inches='tight')\r\n",
    "plt.show()\r\n",
    "savefig('fhat')\r\n",
    "# plt.savefig('plot-f-err-due-to-motor-delay-2000Hz-learned.png')"
   ],
   "outputs": [],
   "metadata": {}
  },
  {
   "cell_type": "code",
   "execution_count": null,
   "source": [
    "# Plot the components of F_r\r\n",
    "plt.figure(figsize=(15,5))\r\n",
    "idx_start = 0\r\n",
    "idx_end = 10000\r\n",
    "for i in range(3):\r\n",
    "    plt.subplot(1,4,i+1)\r\n",
    "    # plt.plot(log.t[idx_start:idx_end], log.p_error[idx_start:idx_end,i], label='p err')\r\n",
    "    # plt.plot(log.t[idx_start:idx_end], log.v_error[idx_start:idx_end,i], label='v err')\r\n",
    "    plt.plot(log.t[idx_start:idx_end], log.p_term[idx_start:idx_end,i], label='p term')\r\n",
    "    plt.plot(log.t[idx_start:idx_end], log.v_term[idx_start:idx_end,i], label='v term')\r\n",
    "    try:\r\n",
    "        plt.plot(log.t[idx_start:idx_end], log.f_hat[idx_start:idx_end,0,i], label='f_hat term')\r\n",
    "    except:\r\n",
    "        print(\"no f-hat\")\r\n",
    "    plt.plot(log.t[idx_start:idx_end], log.i_term[idx_start:idx_end,i], label='i term')\r\n",
    "    plt.plot(log.t[idx_start:idx_end], log.ad_term[idx_start:idx_end,i], label='ad term')\r\n",
    "    plt.plot(log.t[idx_start:idx_end], log.g_term[idx_start:idx_end,i], label='g term')\r\n",
    "    # plt.plot(log.t[idx_start:idx_end], log.F_r[idx_start:idx_end,i], label='F_r')\r\n",
    "    # plt.plot(log.t[idx_start:idx_end], log.F_r_dot[idx_start:idx_end,i], label='F_r_dot')\r\n",
    "    # plt.plot(log.t[idx_start:idx_end], log.F_r_prime[idx_start:idx_end,i], label='F_r_prime')\r\n",
    "    plt.legend()\r\n",
    "# plt.savefig('plots/plt-Fr-breakdown-' + nametag + '.jpg')\r\n",
    "plt.show()\r\n",
    "savefig('Fr-breakdown')"
   ],
   "outputs": [],
   "metadata": {}
  },
  {
   "cell_type": "code",
   "execution_count": null,
   "source": [
    "istart = 0\r\n",
    "\r\n",
    "plt.figure()\r\n",
    "ax = plt.gca()\r\n",
    "plt.plot(log['t'][istart:], np.sqrt(np.sum((log['X'][istart:, 0:3] - log['pd'][istart:,:])**2,1)))\r\n",
    "plt.xlabel('t')\r\n",
    "plt.ylim(bottom=0)\r\n",
    "# plt.yscale('log')\r\n",
    "tick_spacing = T / 2\r\n",
    "ax.xaxis.set_major_locator(ticker.MultipleLocator(base=tick_spacing))\r\n",
    "plt.ylabel('p-error')\r\n",
    "\r\n",
    "plt.show()\r\n",
    "savefig('p-error')"
   ],
   "outputs": [],
   "metadata": {}
  },
  {
   "cell_type": "code",
   "execution_count": null,
   "source": [
    "plt.plot(log.t, log.T)\r\n",
    "plt.plot(log.t, log.T_r)\r\n",
    "plt.legend(('T', 'T_r'))"
   ],
   "outputs": [],
   "metadata": {}
  },
  {
   "cell_type": "code",
   "execution_count": null,
   "source": [
    "plt.figure(figsize=(15,5))\r\n",
    "for i in range(4):\r\n",
    "    plt.subplot(1,4,i+1)\r\n",
    "    plt.plot(log.t, log.q_sp[:,i], label='q_sp,%i'%i)\r\n",
    "    plt.plot(log.t, log.X[:,3+i], label='q_%i'%i)\r\n",
    "    plt.plot(log.t, log.q_d[:,i], label='q_d,%i'%i)\r\n",
    "    # plt.plot(log.t, log.q_d_prime[:,i])\r\n",
    "    # plt.legend(('q_%i'%i, 'q_sp,%i'%i, 'q_d,%i'%i, 'q_d_prime,%i'%i))\r\n",
    "    plt.legend()\r\n",
    "# plt.savefig('plots/plt-q-' + nametag + '.jpg')\r\n",
    "\r\n",
    "plt.show()\r\n",
    "savefig('q')"
   ],
   "outputs": [],
   "metadata": {}
  },
  {
   "cell_type": "code",
   "execution_count": null,
   "source": [
    "plt.figure(figsize=(10,10))\r\n",
    "istart = -1000\r\n",
    "iend = 1000000\r\n",
    "# for i in range(3):\r\n",
    "i=1\r\n",
    "plt.subplot(3,1,1)\r\n",
    "plt.plot(log.t[istart:iend], log.X[istart:iend,4+i], label='q_%i'%(i+1))\r\n",
    "plt.plot(log.t[istart:iend], log.q_sp[istart:iend,i+1], label='q_sp_%i'%(i+1))\r\n",
    "plt.plot(log.t[istart:iend], np.zeros_like(log.t[istart:iend]), 'k:')\r\n",
    "plt.legend()\r\n",
    "\r\n",
    "plt.subplot(3,1,2)\r\n",
    "plt.plot(log.t[istart:iend], log.w[istart:iend,i], label='w_%i'%i)\r\n",
    "plt.plot(log.t[istart:iend], log.w_sp[istart:iend,i], label='w_sp_%i'%i)\r\n",
    "plt.plot(log.t[istart:iend], np.zeros_like(log.t[istart:iend]), 'k:')\r\n",
    "plt.legend()\r\n",
    "\r\n",
    "plt.subplot(3,1,3)\r\n",
    "plt.plot(log.t[istart:iend], log.alpha_sp[istart:iend,i], label='tau_sp,%i'%i)\r\n",
    "# plt.plot(log.t, log.alpha_[:,i] * 0.1, label='0.1*alpha_nominal')\r\n",
    "plt.plot(log.t[istart:iend], log.tau[istart:iend,i], label='tau_nominal_%i'%i)\r\n",
    "plt.plot(log.t[istart:iend], log.tau_s[istart:iend,i] + log.tau[istart:iend,i], label='tau_%i'%i)\r\n",
    "plt.plot(log.t[istart:iend], log.tau_s[istart:iend,i], label='tau_s_%i'%i)\r\n",
    "# plt.plot(log.t, log.Xdot[:,10+i], label='alpha')\r\n",
    "# plt.legend(('q_%i'%i, 'w_%i'%i, 'w_sp,%i'%i, 'alpha,%i'%i, 'Xdot,%i'%i))\r\n",
    "plt.legend()\r\n",
    "# plt.legend(('w_%i'%i, 'w_sp,%i'%i, 'tau,%i'%i, 'crossterm,%i'%i))\r\n",
    "plt.plot(log.t[istart:iend], np.zeros_like(log.t[istart:iend]), 'k:')\r\n",
    "# plt.savefig('plots/plt-attitude-' + nametag + '.jpg')\r\n",
    "savefig('attitude-' + str(i))"
   ],
   "outputs": [],
   "metadata": {}
  },
  {
   "cell_type": "code",
   "execution_count": null,
   "source": [
    "plt.figure(figsize=(10,10))\r\n",
    "for i in range(3):\r\n",
    "    plt.subplot(3,1,i+1)\r\n",
    "    plt.plot(log.t, log.w[:,i], label='w_%i'%i)\r\n",
    "    plt.plot(log.t, log.w_sp[:,i], label='w_sp_%i'%i)\r\n",
    "    plt.plot(log.t, np.zeros_like(log.t), 'k:')\r\n",
    "    plt.legend()\r\n",
    "\r\n",
    "    plt.legend()\r\n",
    "    # plt.legend(('w_%i'%i, 'w_sp,%i'%i, 'tau,%i'%i, 'crossterm,%i'%i))\r\n",
    "    plt.plot(log.t, np.zeros_like(log.t), 'k:')\r\n",
    "    # plt.savefig('plots/plt-attitude-' + nametag + '.jpg')\r\n",
    "    savefig('omega')\r\n",
    "\r\n",
    "plt.show()"
   ],
   "outputs": [],
   "metadata": {}
  },
  {
   "cell_type": "code",
   "execution_count": null,
   "source": [
    "# plt.figure(figsize=(10,10))\r\n",
    "# # for i in range(3):\r\n",
    "# i=1\r\n",
    "# plt.subplot(3,1,1)\r\n",
    "# plt.plot(log.t, log.X[:,i], label='p_%i'%(i+1))\r\n",
    "# plt.plot(log.t, log.p_d[:,i], label='p_d_%i'%(i+1))\r\n",
    "# plt.plot(log.t, np.zeros_like(log.t), 'k:')\r\n",
    "# plt.legend()\r\n",
    "\r\n",
    "# plt.subplot(3,1,2)\r\n",
    "# plt.plot(log.t, log.X[:,7+i], label='w_%i'%i)\r\n",
    "# plt.plot(log.t, log.[:,i], label='w_sp_%i'%i)\r\n",
    "# plt.plot(log.t, np.zeros_like(log.t), 'k:')\r\n",
    "# plt.legend()\r\n",
    "\r\n",
    "# plt.subplot(3,1,3)\r\n",
    "# # plt.plot(log.t, log.alpha_sp[:,i])\r\n",
    "# # plt.plot(log.t, log.alpha_[:,i] * 0.1, label='0.1*alpha_nominal')\r\n",
    "# plt.plot(log.t, log.tau[:,i], label='tau_nominal_%i'%i)\r\n",
    "# plt.plot(log.t, log.tau_s[:,i], label='tau_s_%i'%i)\r\n",
    "# plt.plot(log.t, log.tau_s[:,i] + log.tau[:,i], label='tau_%i'%i)\r\n",
    "# # plt.plot(log.t, log.Xdot[:,10+i], label='alpha')\r\n",
    "# # plt.legend(('q_%i'%i, 'w_%i'%i, 'w_sp,%i'%i, 'alpha,%i'%i, 'Xdot,%i'%i))\r\n",
    "# plt.legend()\r\n",
    "# # plt.legend(('w_%i'%i, 'w_sp,%i'%i, 'tau,%i'%i, 'crossterm,%i'%i))\r\n",
    "# plt.plot(log.t, np.zeros_like(log.t), 'k:')\r\n",
    "# plt.savefig('plt-attitude-' + nametag + '.jpg')"
   ],
   "outputs": [],
   "metadata": {}
  },
  {
   "cell_type": "code",
   "execution_count": null,
   "source": [
    "plt.figure(figsize=(15,5))\r\n",
    "idx_end = 90000\r\n",
    "for i in range(3):\r\n",
    "    plt.subplot(1,3,i+1)\r\n",
    "    plt.plot(log.t[:idx_end], log.F_r[:idx_end,i])\r\n",
    "    plt.plot(log.t[:idx_end], log.F_r_dot[:idx_end,i])\r\n",
    "    plt.plot(log.t[:idx_end], log.F_r_prime[:idx_end,i])\r\n",
    "    plt.legend(('F_r,%i'%i, 'F_r_dot,%i'%i, 'F_r_prime,%i'%i))\r\n",
    "# plt.savefig('plots/plt-Fprime-' + nametag + '.jpg')\r\n",
    "plt.show()\r\n",
    "savefig('Fprime')"
   ],
   "outputs": [],
   "metadata": {}
  },
  {
   "cell_type": "code",
   "execution_count": null,
   "source": [
    "log.keys()"
   ],
   "outputs": [],
   "metadata": {}
  },
  {
   "cell_type": "code",
   "execution_count": null,
   "source": [
    "# plt.figure(figsize=(15,5))\r\n",
    "# for i in range(3):\r\n",
    "#     plt.subplot(130 + int(i + 1))\r\n",
    "\r\n",
    "#     # plt.plot(log.t[-1000:], -log.rg[-1000:,0])\r\n",
    "#     # plt.plot(log.t[:], log.f[:,i], label='y')\r\n",
    "#     plt.plot(log.t[:], log.Fs[:,i], '--', label='Fs')\r\n",
    "#     # plt.plot(log.t, log.f_error[:,i], label='f_error')\r\n",
    "#     # plt.plot(log.t[:], log.mpddot[:, i], label='mgddot')\r\n",
    "#     # plt.plot(log.t, log.g[:,i], label='g')\r\n",
    "#     # plt.plot(log.t, log.u[:,i], label='u')\r\n",
    "#     # plt.plot(log.t, log.ahat_dot_prediction[:,i], label='ahat_dot_pred')\r\n",
    "#     # plt.plot(log.t, log.ahat_dot_tracking[:,i], label='ahat_dot_tracking')\r\n",
    "#     # plt.plot(log.t, log.ahat_dot_regularization[:,i], label='ahat_dot_reg')\r\n",
    "#     # plt.plot(log.t[:], log.f_hat[:,0,i], label='f_hat')\r\n",
    "#     plt.plot(log.t[:], log.f_hat[:,0,i], label='f_hat')\r\n",
    "#     plt.legend()\r\n",
    "#     rmse = np.sqrt(np.mean((log.Fs[istart:, i] - log.f_hat[istart:, 0, i])**2))\r\n",
    "#     print(rmse)\r\n",
    "#     # plt.title('rmse = ' + '%.3fN' % rmse + nametag)\r\n",
    "#     plt.ylabel(str(i) + ' force')\r\n",
    "#     # plt.savefig('force-prediction-x_' + nametag + '.jpg')\r\n",
    "\r\n",
    "# # plt.savefig('plots/force-prediction-x_' + nametag + '.jpg')\r\n",
    "# savefig('ahat-update')"
   ],
   "outputs": [],
   "metadata": {}
  },
  {
   "cell_type": "code",
   "execution_count": null,
   "source": [
    "idx_end = 100000\r\n",
    "plt.plot(log.t[:idx_end], log.s_oncone[:idx_end], label='s_cone')\r\n",
    "# plt.plot(log.t[:idx_end], log.s_onsphere[:idx_end], label='s_sphere')\r\n",
    "plt.plot(log.t[:idx_end], np.ones_like(log.t[:idx_end]), label='1')\r\n",
    "plt.legend()\r\n",
    "plt.show()\r\n",
    "# plt.savefig('plots/plt-projection-' + nametag + '.jpg')"
   ],
   "outputs": [],
   "metadata": {}
  },
  {
   "cell_type": "code",
   "execution_count": null,
   "source": [
    "plt.plot(log.t, log.F_r[:,2])\r\n",
    "plt.plot(log.t, log.F_r_no_adaptive[:,2])\r\n",
    "plt.legend(['Fz_r with adaptive term', 'Fz_r w/o adaptive term']) # CHECK: This labels might be wrong....\r\n",
    "plt.show()"
   ],
   "outputs": [],
   "metadata": {}
  },
  {
   "cell_type": "code",
   "execution_count": null,
   "source": [
    "i = 2\r\n",
    "idxtmax = 1500\r\n",
    "\r\n",
    "plt.figure(figsize=(10,10))\r\n",
    "# plt.plot(log.t, log.f_hat[:,i])\r\n",
    "# plt.plot(log.t, -log.Fs[:,i])\r\n",
    "# plt.title('Predicted vs actual x side force')\r\n",
    "# plt.savefig('x-sideforce-learned-kernel-ss.png')\r\n",
    "\r\n",
    "# plt.plot(log.t[:idxtmax], -log.Fs[:idxtmax,i]-log.f_hat[:idxtmax,i])\r\n",
    "plt.plot(log.t[:idxtmax], log.f_error[:idxtmax,i])\r\n",
    "plt.plot(log.t[:idxtmax], log.ahat_dot_prediction[:idxtmax,i])\r\n",
    "plt.plot(log.t[:idxtmax], log.ahat_dot_tracking[:idxtmax,i])\r\n",
    "plt.plot(log.t[:idxtmax], log.ahat_dot_tracking[:idxtmax,i]+log.ahat_dot_prediction[:idxtmax,i])\r\n",
    "plt.legend(['measured error', 'dot_pred',  'dot_tracking', 'dot']) # ''dot_tracking',\r\n",
    "plt.title('Predicted vs actual z side force')\r\n",
    "# plt.savefig('plots/x-sideforce-learned-kernel-ss.png')\r\n",
    "plt.show()"
   ],
   "outputs": [],
   "metadata": {}
  },
  {
   "cell_type": "code",
   "execution_count": null,
   "source": [
    "# plt.plot(log.t, log.Fs[:,0]-log.f_cheat[:,0])\r\n",
    "# plt.plot(log.t, log.Fs[:,0])\r\n",
    "# plt.plot(log.t, log.f_cheat[:,0])\r\n",
    "# plt.title('Predicted vs actual x side force')\r\n",
    "# plt.savefig('plots/x-sideforce-learned-kernel-ss.png')"
   ],
   "outputs": [],
   "metadata": {}
  },
  {
   "cell_type": "code",
   "execution_count": null,
   "source": [
    "lower_lim = 0\r\n",
    "upper_lim = -1\r\n",
    "plt.figure(figsize=(15,5))\r\n",
    "for i, axis_label in enumerate(('x', 'y', 'z')):\r\n",
    "    plt.subplot(1,3,i+1)\r\n",
    "    plt.title('axis = %s' % axis_label)\r\n",
    "    plt.xlabel('t')\r\n",
    "    plt.plot(log.t[lower_lim:upper_lim], log.Fs[lower_lim:upper_lim,i], 'k')\r\n",
    "    plt.plot(log.t[lower_lim:upper_lim], log.rg[lower_lim:upper_lim,i], 'r')\r\n",
    "    plt.plot(log.t[lower_lim:upper_lim], log.f_hat[lower_lim:upper_lim,i], 'b')\r\n",
    "    plt.plot(log.t[lower_lim:upper_lim], log.f[lower_lim:upper_lim,i], 'g')\r\n",
    "    plt.legend(('Fs', 'rg', 'f_hat', 'f',))\r\n",
    "    plt.plot(log.t[lower_lim:upper_lim], np.cumsum(log.Fs[lower_lim:upper_lim,i])/np.array(range(len(log.Fs[lower_lim:upper_lim,i]))), 'k:')\r\n",
    "    plt.plot(log.t[lower_lim:upper_lim], np.cumsum(log.rg[lower_lim:upper_lim,i])/np.array(range(len(log.rg[lower_lim:upper_lim,i]))), 'r:')\r\n",
    "    plt.plot(log.t[lower_lim:upper_lim], np.cumsum(log.f_hat[lower_lim:upper_lim,i])/np.array(range(len(log.f_hat[lower_lim:upper_lim,i]))), 'b:')\r\n",
    "    plt.plot(log.t[lower_lim:upper_lim], np.cumsum(log.f[lower_lim:upper_lim,i])/np.array(range(len(log.f[lower_lim:upper_lim,i]))), 'g:')\r\n",
    "\r\n",
    "# plt.savefig('plots/fbreakdown-' + nametag + '.png')\r\n",
    "savefig('f-breakdown')\r\n",
    "plt.show()"
   ],
   "outputs": [],
   "metadata": {}
  },
  {
   "cell_type": "code",
   "execution_count": null,
   "source": [],
   "outputs": [],
   "metadata": {}
  }
 ],
 "metadata": {
  "kernelspec": {
   "name": "python3",
   "display_name": "Python 3.7.7 64-bit"
  },
  "language_info": {
   "codemirror_mode": {
    "name": "ipython",
    "version": 3
   },
   "file_extension": ".py",
   "mimetype": "text/x-python",
   "name": "python",
   "nbconvert_exporter": "python",
   "pygments_lexer": "ipython3",
   "version": "3.7.7"
  },
  "interpreter": {
   "hash": "efbe968048790da5e26fe224257c59db0c3c3cb10bbad9ca12250f2d56e94a61"
  }
 },
 "nbformat": 4,
 "nbformat_minor": 2
}