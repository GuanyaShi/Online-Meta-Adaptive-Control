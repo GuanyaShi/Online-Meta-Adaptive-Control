{
 "cells": [
  {
   "cell_type": "code",
   "execution_count": null,
   "source": [
    "import time\r\n",
    "\r\n",
    "from IPython.display import HTML\r\n",
    "\r\n",
    "import numpy as np\r\n",
    "import matplotlib.pyplot as plt\r\n",
    "plt.rcdefaults()\r\n",
    "import matplotlib.ticker as ticker\r\n",
    "import torch\r\n",
    "from tqdm import tqdm\r\n",
    "\r\n",
    "from threedeequadsim import quadsim, controller, trajectory, experiments, utils\r\n",
    "\r\n",
    "import importlib\r\n",
    "importlib.reload(controller)\r\n",
    "importlib.reload(quadsim)\r\n",
    "importlib.reload(trajectory)"
   ],
   "outputs": [],
   "metadata": {}
  },
  {
   "cell_type": "code",
   "execution_count": null,
   "source": [
    "nametag = 'hover'"
   ],
   "outputs": [],
   "metadata": {}
  },
  {
   "cell_type": "code",
   "execution_count": null,
   "source": [
    "folder = './plots/' + time.strftime('%Y-%m-%d') + '/' + nametag + '/'\r\n",
    "if not os.path.isdir(folder):\r\n",
    "    os.makedirs(folder)\r\n",
    "    print('Created data folder ' + folder)"
   ],
   "outputs": [],
   "metadata": {}
  },
  {
   "cell_type": "code",
   "execution_count": null,
   "source": [
    "def savefig(plottag):\r\n",
    "    plt.savefig(folder + plottag + '.png', bbox_inches='tight')\r\n",
    "# def savefig(plottag):\r\n",
    "#     pass\r\n",
    "xyz = ['x', 'y', 'z']"
   ],
   "outputs": [],
   "metadata": {}
  },
  {
   "cell_type": "code",
   "execution_count": null,
   "source": [
    "eta_a = 0.01\r\n",
    "\r\n",
    "eta_A_convex = 0.001\r\n",
    "eta_A_biconvex = 0.0002\r\n",
    "eta_A_deep = 0.05\r\n",
    "\r\n",
    "dim_a = 100\r\n",
    "dim_A = 100\r\n",
    "layer_sizes = (75, 150)\r\n",
    "\r\n",
    "feature_freq = 0.5"
   ],
   "outputs": [],
   "metadata": {}
  },
  {
   "cell_type": "code",
   "execution_count": null,
   "source": [
    "q_kwargs = {\r\n",
    "    'Vwind' : 0.,  # mean wind speed\r\n",
    "    'Vwind_cov' : 3.0,                # how quickly the wind changes\r\n",
    "    'Vwind_gust' : 5.0,                # for hard wind constrant, wind speed is in the range Vwind +/- Vwind_gust\r\n",
    "    'wind_constraint' : 'soft',\r\n",
    "    't_stop' : 30.,\r\n",
    "    'wind_update_period' : 2.0,\r\n",
    "    'wind_model': 'iid'\r\n",
    "}"
   ],
   "outputs": [],
   "metadata": {}
  },
  {
   "cell_type": "code",
   "execution_count": null,
   "source": [
    "CTRLS = [\r\n",
    "    # controller.Baseline(),\r\n",
    "    controller.MetaAdaptBaseline(eta_a_base=eta_a, dim_a=dim_a, feature_freq=feature_freq),\r\n",
    "    controller.MetaAdaptConvex(eta_a_base=eta_a, eta_A_base=eta_A_convex, dim_a=dim_a, dim_A=dim_A, feature_freq=feature_freq),\r\n",
    "    controller.MetaAdaptBiconvex(eta_a_base=eta_a, eta_A_base=eta_A_biconvex, dim_a=dim_a, dim_A=dim_A, feature_freq=feature_freq),\r\n",
    "    controller.MetaAdaptDeep(eta_a_base=eta_a, eta_A_base=eta_A_deep, dim_a=dim_a, layer_sizes=layer_sizes),\r\n",
    "    controller.Omniscient()\r\n",
    "]"
   ],
   "outputs": [],
   "metadata": {}
  },
  {
   "cell_type": "code",
   "execution_count": null,
   "source": [
    "T = trajectory.hover\r\n",
    "\r\n",
    "t_kwargs = {\r\n",
    "    'pd' : np.zeros(3)\r\n",
    "}\r\n",
    "\r\n",
    "# T = trajectory.fig8\r\n",
    "# t_kwargs = {\r\n",
    "#     'T': 5.\r\n",
    "# }"
   ],
   "outputs": [],
   "metadata": {}
  },
  {
   "cell_type": "code",
   "execution_count": null,
   "source": [
    "Data = []\r\n",
    "\r\n",
    "for c in CTRLS:\r\n",
    "    q = quadsim.QuadrotorWithSideForce(**q_kwargs, )\r\n",
    "    t = T(**t_kwargs)\r\n",
    "\r\n",
    "    data = q.run(trajectory=t, controller=c, seed=116 ) # Note that this will set the seed, call c.reset_controller(), then reset the seed again\r\n",
    "    Data.append(data)"
   ],
   "outputs": [],
   "metadata": {}
  },
  {
   "cell_type": "code",
   "execution_count": null,
   "source": [
    "color = ((1,0,0), (0,1,0), (0,0,1)) # colors for x, y and z"
   ],
   "outputs": [],
   "metadata": {}
  },
  {
   "cell_type": "code",
   "execution_count": null,
   "source": [
    "for j, data in enumerate(Data):\r\n",
    "    print(CTRLS[j]._name)\r\n",
    "\r\n",
    "    plt.figure(figsize=(5,3))\r\n",
    "\r\n",
    "    # Plot position tracking\r\n",
    "    plt.subplot(2,1,1)\r\n",
    "    for i in [0, 2]: # only plot x and z\r\n",
    "        # plt.subplot(2,3,i+1)\r\n",
    "        plt.plot(data['t'], data['X'][:,i], label=xyz[i], color = color[i])\r\n",
    "        plt.plot(data['t'], data['pd'][:,i], ':', label=xyz[i] + '_d', color = color[i])\r\n",
    "        # plt.plot(data['t'], data['Vwind'][:,i], label='Vwind_' + xyz[i])\r\n",
    "    plt.legend(bbox_to_anchor=(1.05, 1.))\r\n",
    "    for t in data['t'][data['meta_adapt_trigger']]:\r\n",
    "        plt.axvline(t, ls=':', color='k', lw=0.5)\r\n",
    "    plt.xlabel('t')\r\n",
    "    plt.ylabel('Position [m]')\r\n",
    "    # plt.ylabel(xyz[i])\r\n",
    "    # plt.ylim((-0.3, 0.3))\r\n",
    "\r\n",
    "    # Plot force estimation\r\n",
    "    plt.subplot(2,1,2)\r\n",
    "    for i in [0, 2]:\r\n",
    "        # plt.subplot(2,3,i+4)\r\n",
    "        plt.plot(data['t'], data['Fs'][:,i], '--', label=r'$f_' + xyz[i] + '$', color = color[i])\r\n",
    "        plt.plot(data['t'], data['f_hat'][:,0,i], label=r'$\\hat{f}_' + xyz[i] + '$', color = color[i])\r\n",
    "    plt.legend(bbox_to_anchor=(1.05, 1.1))\r\n",
    "    for t in data['t'][data['meta_adapt_trigger']]:\r\n",
    "        plt.axvline(t, ls=':', color='k', lw=0.5)\r\n",
    "    plt.xlabel('t')\r\n",
    "    plt.ylabel('Force [N]')\r\n",
    "    # plt.ylabel(xyz[i])\r\n",
    "    plt.ylim((-8,8))\r\n",
    "\r\n",
    "    plt.suptitle(CTRLS[j].name_long)\r\n",
    "    savefig('xz-performance_' + CTRLS[j]._name)"
   ],
   "outputs": [],
   "metadata": {}
  },
  {
   "cell_type": "code",
   "execution_count": null,
   "source": [
    "print('%15s, %6s, %15s' % ('Controller', 'ACE', 'Steady State ACE'))\r\n",
    "\r\n",
    "for c, data in zip(CTRLS, Data):\r\n",
    "    err = experiments.get_error(data['X'], data['pd'])\r\n",
    "    err_ss = experiments.get_error(data['X'], data['pd'], istart=1000) # ss=steady state\r\n",
    "    print('%15s, %5.4f, %5.4f' % (c._name, err['meanerr'], err_ss['meanerr']))"
   ],
   "outputs": [],
   "metadata": {}
  },
  {
   "cell_type": "code",
   "execution_count": null,
   "source": [
    "import rowan\r\n",
    "import collections\r\n",
    "import os\r\n",
    "import shutil"
   ],
   "outputs": [],
   "metadata": {}
  },
  {
   "cell_type": "code",
   "execution_count": null,
   "source": [
    "Circle = collections.namedtuple('Circle', 'center radius normal ax1 ax2', defaults=((0., 0., 0.), (0., 0., 0.)))\r\n",
    "l_arm = 0.3\r\n",
    "D = 0.45 # params['D'] * 3\r\n",
    "h = 0.10 # params['h']\r\n",
    "lines = (((0.,0.,0.),(l_arm,l_arm,0.)),\r\n",
    "                ((0.,0.,0.),(-l_arm,l_arm,0.)),\r\n",
    "                ((0.,0.,0.),(-l_arm,-l_arm,0.)),\r\n",
    "                ((0.,0.,0.),(l_arm,-l_arm,0.)),\r\n",
    "                ((l_arm,l_arm,0.),(l_arm,l_arm,h)),\r\n",
    "                ((-l_arm,l_arm,0.),(-l_arm,l_arm,h)),\r\n",
    "                ((-l_arm,-l_arm,0.),(-l_arm,-l_arm,h)),\r\n",
    "                ((l_arm,-l_arm,0.),(l_arm,-l_arm,h)),\r\n",
    "                )\r\n",
    "# Make circles mutable so that we can update the ax1 and ax2 fields\r\n",
    "circles = [Circle((l_arm, l_arm, h), D/2, (0., 0., 1.)),\r\n",
    "                Circle((-l_arm, l_arm, h), D/2, (0., 0., 1.)),\r\n",
    "                Circle((-l_arm, -l_arm, h), D/2, (0., 0., 1.)),\r\n",
    "                Circle((l_arm, -l_arm, h), D/2, (0., 0., 1.)),]\r\n",
    "\r\n",
    "for i, (center, radius, normal, ax1, ax2) in enumerate(circles):\r\n",
    "    ax1 = np.cross(normal, (1., 0., 0.))\r\n",
    "    if np.linalg.norm(ax1) < 1e-3:\r\n",
    "        ax1 = np.cross(normal, (0., 0., 1.))\r\n",
    "    ax1 = ax1 / np.linalg.norm(ax1)\r\n",
    "    ax2 = np.cross(normal, ax1)\r\n",
    "    circles[i] = Circle(np.array(center), radius, np.array(normal), np.array(ax1), np.array(ax2))"
   ],
   "outputs": [],
   "metadata": {}
  },
  {
   "cell_type": "code",
   "execution_count": null,
   "source": [
    "def plot_quad(ax, R, p):\r\n",
    "    for line in lines:\r\n",
    "        x, y, z = R @ np.array(line).transpose() + p[:, np.newaxis]\r\n",
    "        ax.plot3D(x,y,z, 'k', lw=3)\r\n",
    "\r\n",
    "    for (center, radius, normal, ax1, ax2) in circles:\r\n",
    "        center = R @ center\r\n",
    "        ax1 = R @ ax1\r\n",
    "        ax2 = R @ ax2\r\n",
    "        theta = np.linspace(0, 2*np.pi)\r\n",
    "        x, y, z = radius * np.outer(ax1, np.cos(theta)) + radius * np.outer(ax2, np.sin(theta)) + center[:, np.newaxis] + p[:, np.newaxis]\r\n",
    "        ax.plot3D(x,y,z, 'k', lw=3)\r\n"
   ],
   "outputs": [],
   "metadata": {}
  },
  {
   "cell_type": "code",
   "execution_count": null,
   "source": [
    "fps = 0.05\r\n",
    "\r\n",
    "data = Data[0]\r\n",
    "j = 0\r\n",
    "for j, data in enumerate(Data):\r\n",
    "    t_next_frame = 0.\r\n",
    "    subfolder = folder + '/' + CTRLS[j]._name + '_gif-frames'\r\n",
    "    if os.path.isdir(subfolder):\r\n",
    "        print('Warning: overwriting dataset in folder' + subfolder)\r\n",
    "        # os.rmdir(folder)\r\n",
    "        shutil.rmtree(subfolder)\r\n",
    "    os.makedirs(subfolder)\r\n",
    "    # if not os.path.isdir(subfolder):\r\n",
    "    #     os.makedirs(subfolder)\r\n",
    "    print('Created data folder ' + subfolder)\r\n",
    "\r\n",
    "    def saveframe(frameid = [0]):\r\n",
    "        plt.savefig(subfolder + '/%04d' % frameid[0], bbox_inches='tight')\r\n",
    "        frameid[0] += 1\r\n",
    "\r\n",
    "    xs, ys, zs = np.array(data['X'][:, 0:3]).transpose()\r\n",
    "    xmid = (min(xs) + max(xs))/2\r\n",
    "    ymid = (min(ys) + max(ys))/2\r\n",
    "    zmid = (min(zs) + max(zs))/2\r\n",
    "    xwid = max(xs) - min(xs)\r\n",
    "    ywid = max(ys) - min(ys)\r\n",
    "    zwid = max(zs) - min(zs)\r\n",
    "    margin = 0.5\r\n",
    "    wid = max((xwid, ywid, zwid)) + 2*margin\r\n",
    "\r\n",
    "    for k, t in enumerate(data['t']):\r\n",
    "        if t >= t_next_frame:\r\n",
    "            t_next_frame += 1/fps\r\n",
    "\r\n",
    "            fig = plt.figure()\r\n",
    "            # gs = fig.add_gridspec(2,2)\r\n",
    "            gs = plt.GridSpec(2, 2)\r\n",
    "\r\n",
    "            # Plot quadrotor\r\n",
    "            ax = fig.add_subplot(gs[:,0], projection='3d')\r\n",
    "            # ax = plt.axes(projection='3d')\r\n",
    "            p = data['X'][k,:3]\r\n",
    "            q = data['X'][k, 3:7]\r\n",
    "            R = rowan.to_matrix(q)\r\n",
    "            plot_quad(ax, R, p)\r\n",
    "            ax.set_xlim(xmid - wid/2, xmid + wid/2)\r\n",
    "            ax.set_ylim(ymid - wid/2, ymid + wid/2)\r\n",
    "            ax.set_zlim(zmid - wid/2, zmid + wid/2)\r\n",
    "            vwind = data['Vwind'][k]\r\n",
    "            plt.quiver(xmid - wid/2, ymid, zmid + wid/2, vwind[0], vwind[1], vwind[2])\r\n",
    "            ax.text(xmid - wid/2, ymid - wid/2, zmid - wid/2, 't=%.2fs' % t)\r\n",
    "            \r\n",
    "\r\n",
    "            # Plot position tracking\r\n",
    "            plt.subplot(gs[0,1])\r\n",
    "            for i in [0, 2]: # only plot x and z\r\n",
    "                plt.plot(data['t'][:k], data['X'][:k,i], label=xyz[i], color = color[i])\r\n",
    "                plt.plot(data['t'][:k], data['pd'][:k,i], ':', label=xyz[i] + '_d', color = color[i])\r\n",
    "            plt.legend(bbox_to_anchor=(1.05, 1.))\r\n",
    "            for t in data['t'][data['meta_adapt_trigger']]:\r\n",
    "                plt.axvline(t, ls=':', color='k', lw=0.5)\r\n",
    "            plt.xlabel('t')\r\n",
    "            plt.ylabel('Position [m]')\r\n",
    "            plt.ylim((-0.3, 0.3))\r\n",
    "\r\n",
    "            # Plot force estimation\r\n",
    "            plt.subplot(gs[1,1])\r\n",
    "            for i in [0, 2]:\r\n",
    "                plt.plot(data['t'][:k], data['Fs'][:k,i], '--', label=r'$f_' + xyz[i] + '$', color = color[i])\r\n",
    "                plt.plot(data['t'][:k], data['f_hat'][:k,0,i], label=r'$\\hat{f}_' + xyz[i] + '$', color = color[i])\r\n",
    "            plt.legend(bbox_to_anchor=(1.05, 1.1))\r\n",
    "            for t in data['t'][data['meta_adapt_trigger']]:\r\n",
    "                plt.axvline(t, ls=':', color='k', lw=0.5)\r\n",
    "            plt.xlabel('t')\r\n",
    "            plt.ylabel('Force [N]')\r\n",
    "            plt.ylim((-8,8))\r\n",
    "\r\n",
    "            plt.suptitle(CTRLS[j].name_long)\r\n",
    "            plt.tight_layout()\r\n",
    "            saveframe()\r\n",
    "            plt.close()\r\n",
    "            # plt.show()"
   ],
   "outputs": [],
   "metadata": {}
  },
  {
   "cell_type": "code",
   "execution_count": null,
   "source": [
    "vwind"
   ],
   "outputs": [],
   "metadata": {}
  },
  {
   "cell_type": "code",
   "execution_count": null,
   "source": [],
   "outputs": [],
   "metadata": {}
  }
 ],
 "metadata": {
  "orig_nbformat": 4,
  "language_info": {
   "name": "python",
   "version": "3.7.7",
   "mimetype": "text/x-python",
   "codemirror_mode": {
    "name": "ipython",
    "version": 3
   },
   "pygments_lexer": "ipython3",
   "nbconvert_exporter": "python",
   "file_extension": ".py"
  },
  "kernelspec": {
   "name": "python3",
   "display_name": "Python 3.7.7 64-bit"
  },
  "interpreter": {
   "hash": "efbe968048790da5e26fe224257c59db0c3c3cb10bbad9ca12250f2d56e94a61"
  }
 },
 "nbformat": 4,
 "nbformat_minor": 2
}